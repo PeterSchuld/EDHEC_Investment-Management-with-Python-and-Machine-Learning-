{
 "cells": [
  {
   "cell_type": "markdown",
   "metadata": {},
   "source": [
    "# Interactive Plotting and Monte Carlo Simulations of CPPI"
   ]
  },
  {
   "cell_type": "code",
   "execution_count": 12,
   "metadata": {},
   "outputs": [
    {
     "name": "stdout",
     "output_type": "stream",
     "text": [
      "The autoreload extension is already loaded. To reload it, use:\n",
      "  %reload_ext autoreload\n"
     ]
    }
   ],
   "source": [
    "import ipywidgets as widgets\n",
    "from IPython.display import display\n",
    "import pandas as pd\n",
    "import edhec_risk_kit_123 as erk\n",
    "\n",
    "%load_ext autoreload\n",
    "%autoreload 2"
   ]
  },
  {
   "cell_type": "markdown",
   "metadata": {},
   "source": [
    "## GBM Simulations"
   ]
  },
  {
   "cell_type": "code",
   "execution_count": 13,
   "metadata": {},
   "outputs": [],
   "source": [
    "def show_gbm(n_scenarios, mu, sigma):\n",
    "    \"\"\"\n",
    "    Draw the results of a stock price evolution under a Geometric Brownian Motion model\n",
    "    \"\"\"\n",
    "    s_0=100\n",
    "    prices = erk.gbm(n_scenarios=n_scenarios, mu=mu, sigma=sigma, s_0=s_0)\n",
    "    ax = prices.plot(legend=False, color=\"indianred\", alpha = 0.5, linewidth=2, figsize=(12,5))\n",
    "    ax.axhline(y=100, ls=\":\", color=\"black\")\n",
    "    # draw a dot at the origin\n",
    "    ax.plot(0,s_0, marker='o',color='darkred', alpha=0.2)\n"
   ]
  },
  {
   "cell_type": "code",
   "execution_count": 14,
   "metadata": {},
   "outputs": [],
   "source": [
    "gbm_controls = widgets.interactive(show_gbm, \n",
    "                                   n_scenarios=widgets.IntSlider(min=1, max=1000, step=1, value=1), \n",
    "                                   mu=(0., +.2,.01),\n",
    "                                   sigma=(0, .3, .01)\n",
    ")"
   ]
  },
  {
   "cell_type": "code",
   "execution_count": 15,
   "metadata": {},
   "outputs": [
    {
     "data": {
      "application/vnd.jupyter.widget-view+json": {
       "model_id": "f1d19cc8f6ff4a9ab2393968e439e952",
       "version_major": 2,
       "version_minor": 0
      },
      "text/plain": [
       "interactive(children=(IntSlider(value=1, description='n_scenarios', max=1000, min=1), FloatSlider(value=0.1, d…"
      ]
     },
     "metadata": {},
     "output_type": "display_data"
    }
   ],
   "source": [
    "display(gbm_controls)"
   ]
  },
  {
   "cell_type": "markdown",
   "metadata": {},
   "source": [
    "# Interactive CPPI Monte Carlo Testing"
   ]
  },
  {
   "cell_type": "code",
   "execution_count": 16,
   "metadata": {},
   "outputs": [
    {
     "data": {
      "application/vnd.jupyter.widget-view+json": {
       "model_id": "3863b65975a640eebb4cec8932b307f9",
       "version_major": 2,
       "version_minor": 0
      },
      "text/plain": [
       "interactive(children=(IntSlider(value=50, description='n_scenarios', max=1000, min=1, step=5), FloatSlider(val…"
      ]
     },
     "metadata": {},
     "output_type": "display_data"
    }
   ],
   "source": [
    "def show_cppi(n_scenarios=50, mu=0.07, sigma=0.15, m=3, floor=0., riskfree_rate=0.03, y_max=100):\n",
    "    \"\"\"\n",
    "    Plot the results of a Monte Carlo Simulation of CPPI\n",
    "    \"\"\"\n",
    "    start = 100\n",
    "    sim_rets = erk.gbm(n_scenarios=n_scenarios, mu=mu, sigma=sigma, prices=False, steps_per_year=12)\n",
    "    risky_r = pd.DataFrame(sim_rets)\n",
    "    # run the \"back\"-test\n",
    "    btr = erk.run_cppi(risky_r=pd.DataFrame(risky_r),riskfree_rate=riskfree_rate,m=m, start=start, floor=floor)\n",
    "    wealth = btr[\"Wealth\"]\n",
    "    y_max=wealth.values.max()*y_max/100\n",
    "    ax = wealth.plot(legend=False, alpha=0.3, color=\"indianred\", figsize=(12, 6))\n",
    "    ax.axhline(y=start, ls=\":\", color=\"black\")\n",
    "    ax.axhline(y=start*floor, ls=\"--\", color=\"red\")\n",
    "    ax.set_ylim(top=y_max)\n",
    "\n",
    "cppi_controls = widgets.interactive(show_cppi, \n",
    "                                   n_scenarios=widgets.IntSlider(min=1, max=1000, step=5, value=50), \n",
    "                                   mu=(0., +.2, .01),\n",
    "                                   sigma=(0, .30, .05),\n",
    "                                   floor=(0, 2, .1),\n",
    "                                   m=(1, 5, .5),\n",
    "                                   riskfree_rate=(0, .05, .01),\n",
    "                                   y_max=widgets.IntSlider(min=0, max=100, step=1, value=100,\n",
    "                                                          description=\"Zoom Y Axis\")\n",
    ")\n",
    "display(cppi_controls)"
   ]
  },
  {
   "cell_type": "markdown",
   "metadata": {},
   "source": [
    "# Adding a Histogram and Reporting Floor Violations"
   ]
  },
  {
   "cell_type": "code",
   "execution_count": 17,
   "metadata": {},
   "outputs": [
    {
     "data": {
      "application/vnd.jupyter.widget-view+json": {
       "model_id": "760cdffe991e4559b9c920b1728a059d",
       "version_major": 2,
       "version_minor": 0
      },
      "text/plain": [
       "interactive(children=(IntSlider(value=50, description='n_scenarios', max=1000, min=1, step=5), FloatSlider(val…"
      ]
     },
     "metadata": {},
     "output_type": "display_data"
    }
   ],
   "source": [
    "import matplotlib.pyplot as plt\n",
    "\n",
    "def show_cppi(n_scenarios=50, mu=0.07, sigma=0.15, m=3, floor=0., riskfree_rate=0.03, y_max=100):\n",
    "    \"\"\"\n",
    "    Plot the results of a Monte Carlo Simulation of CPPI\n",
    "    \"\"\"\n",
    "    start = 100\n",
    "    sim_rets = erk.gbm(n_scenarios=n_scenarios, mu=mu, sigma=sigma, prices=False, steps_per_year=12)\n",
    "    risky_r = pd.DataFrame(sim_rets)\n",
    "    # run the \"back\"-test\n",
    "    btr = erk.run_cppi(risky_r=pd.DataFrame(risky_r),riskfree_rate=riskfree_rate,m=m, start=start, floor=floor)\n",
    "    wealth = btr[\"Wealth\"]\n",
    "    # calculate terminal wealth stats\n",
    "    y_max=wealth.values.max()*y_max/100\n",
    "    terminal_wealth = wealth.iloc[-1]\n",
    "    # Plot!\n",
    "    fig, (wealth_ax, hist_ax) = plt.subplots(nrows=1, ncols=2, sharey=True, gridspec_kw={'width_ratios':[3,2]}, figsize=(24, 9))\n",
    "    plt.subplots_adjust(wspace=0.0)\n",
    "    \n",
    "    wealth.plot(ax=wealth_ax, legend=False, alpha=0.3, color=\"indianred\")\n",
    "    wealth_ax.axhline(y=start, ls=\":\", color=\"black\")\n",
    "    wealth_ax.axhline(y=start*floor, ls=\"--\", color=\"red\")\n",
    "    wealth_ax.set_ylim(top=y_max)\n",
    "    \n",
    "    terminal_wealth.plot.hist(ax=hist_ax, bins=50, ec='w', fc='indianred', orientation='horizontal')\n",
    "    hist_ax.axhline(y=start, ls=\":\", color=\"black\")\n",
    "\n",
    "cppi_controls = widgets.interactive(show_cppi, \n",
    "                                   n_scenarios=widgets.IntSlider(min=1, max=1000, step=5, value=50), \n",
    "                                   mu=(0., +.2, .01),\n",
    "                                   sigma=(0, .3, .05),\n",
    "                                   floor=(0, 2, .1),\n",
    "                                   m=(1, 5, .5),\n",
    "                                   riskfree_rate=(0, .05, .01),\n",
    "                                   y_max=widgets.IntSlider(min=0, max=100, step=1, value=100,\n",
    "                                                          description=\"Zoom Y Axis\")\n",
    ")\n",
    "display(cppi_controls)"
   ]
  },
  {
   "cell_type": "markdown",
   "metadata": {},
   "source": [
    "# Adding Terminal Wealth Statistics"
   ]
  },
  {
   "cell_type": "code",
   "execution_count": 18,
   "metadata": {},
   "outputs": [
    {
     "data": {
      "application/vnd.jupyter.widget-view+json": {
       "model_id": "3be8b318eaf94d30ac2fd62f4a204c5f",
       "version_major": 2,
       "version_minor": 0
      },
      "text/plain": [
       "interactive(children=(IntSlider(value=50, description='n_scenarios', max=1000, min=1, step=5), FloatSlider(val…"
      ]
     },
     "metadata": {},
     "output_type": "display_data"
    }
   ],
   "source": [
    "import matplotlib.pyplot as plt\n",
    "import numpy as np\n",
    "\n",
    "def show_cppi(n_scenarios=50, mu=0.07, sigma=0.15, m=3, floor=0., riskfree_rate=0.03, steps_per_year=12, y_max=100):\n",
    "    \"\"\"\n",
    "    Plot the results of a Monte Carlo Simulation of CPPI\n",
    "    \"\"\"\n",
    "    start = 100\n",
    "    sim_rets = erk.gbm(n_scenarios=n_scenarios, mu=mu, sigma=sigma, prices=False, steps_per_year=steps_per_year)\n",
    "    risky_r = pd.DataFrame(sim_rets)\n",
    "    # run the \"back\"-test\n",
    "    btr = erk.run_cppi(risky_r=pd.DataFrame(risky_r),riskfree_rate=riskfree_rate,m=m, start=start, floor=floor)\n",
    "    wealth = btr[\"Wealth\"]\n",
    "\n",
    "    # calculate terminal wealth stats\n",
    "    y_max=wealth.values.max()*y_max/100\n",
    "    terminal_wealth = wealth.iloc[-1]\n",
    "    \n",
    "    tw_mean = terminal_wealth.mean()\n",
    "    tw_median = terminal_wealth.median()\n",
    "    failure_mask = np.less(terminal_wealth, start*floor)\n",
    "    n_failures = failure_mask.sum()\n",
    "    p_fail = n_failures/n_scenarios\n",
    "\n",
    "    e_shortfall = np.dot(terminal_wealth-start*floor, failure_mask)/n_failures if n_failures > 0 else 0.0\n",
    "\n",
    "    # Plot!\n",
    "    fig, (wealth_ax, hist_ax) = plt.subplots(nrows=1, ncols=2, sharey=True, gridspec_kw={'width_ratios':[3,2]}, figsize=(24, 9))\n",
    "    plt.subplots_adjust(wspace=0.0)\n",
    "    \n",
    "    wealth.plot(ax=wealth_ax, legend=False, alpha=0.3, color=\"indianred\")\n",
    "    wealth_ax.axhline(y=start, ls=\":\", color=\"black\")\n",
    "    wealth_ax.axhline(y=start*floor, ls=\"--\", color=\"red\")\n",
    "    wealth_ax.set_ylim(top=y_max)\n",
    "    \n",
    "    terminal_wealth.plot.hist(ax=hist_ax, bins=50, ec='w', fc='indianred', orientation='horizontal')\n",
    "    hist_ax.axhline(y=start, ls=\":\", color=\"black\")\n",
    "    hist_ax.axhline(y=tw_mean, ls=\":\", color=\"blue\")\n",
    "    hist_ax.axhline(y=tw_median, ls=\":\", color=\"purple\")\n",
    "    hist_ax.annotate(f\"Mean: ${int(tw_mean)}\", xy=(.7, .9),xycoords='axes fraction', fontsize=24)\n",
    "    hist_ax.annotate(f\"Median: ${int(tw_median)}\", xy=(.7, .85),xycoords='axes fraction', fontsize=24)\n",
    "    if (floor > 0.01):\n",
    "        hist_ax.axhline(y=start*floor, ls=\"--\", color=\"red\", linewidth=3)\n",
    "        hist_ax.annotate(f\"Violations: {n_failures} ({p_fail*100:2.2f}%)\\nE(shortfall)=${e_shortfall:2.2f}\", xy=(.7, .7), xycoords='axes fraction', fontsize=24)\n",
    "\n",
    "cppi_controls = widgets.interactive(show_cppi,\n",
    "                                   n_scenarios=widgets.IntSlider(min=1, max=1000, step=5, value=50), \n",
    "                                   mu=(0., +.2, .01),\n",
    "                                   sigma=(0, .3, .05),\n",
    "                                   floor=(0, 2, .1),\n",
    "                                   m=(1, 5, .5),\n",
    "                                   riskfree_rate=(0, .05, .01),\n",
    "                                   steps_per_year=widgets.IntSlider(min=1, max=12, step=1, value=12,\n",
    "                                                          description=\"Rebals/Year\"),\n",
    "                                   y_max=widgets.IntSlider(min=0, max=100, step=1, value=100,\n",
    "                                                          description=\"Zoom Y Axis\")\n",
    ")\n",
    "display(cppi_controls)"
   ]
  },
  {
   "cell_type": "code",
   "execution_count": null,
   "metadata": {},
   "outputs": [],
   "source": []
  }
 ],
 "metadata": {
  "kernelspec": {
   "display_name": "Python 3",
   "language": "python",
   "name": "python3"
  },
  "language_info": {
   "codemirror_mode": {
    "name": "ipython",
    "version": 3
   },
   "file_extension": ".py",
   "mimetype": "text/x-python",
   "name": "python",
   "nbconvert_exporter": "python",
   "pygments_lexer": "ipython3",
   "version": "3.6.8"
  }
 },
 "nbformat": 4,
 "nbformat_minor": 4
}

{
 "cells": [
  {
   "cell_type": "code",
   "execution_count": 204,
   "metadata": {},
   "outputs": [
    {
     "name": "stdout",
     "output_type": "stream",
     "text": [
      "The autoreload extension is already loaded. To reload it, use:\n",
      "  %reload_ext autoreload\n"
     ]
    }
   ],
   "source": [
    "import numpy as np\n",
    "import pandas as pd\n",
    "import edhec_risk_kit_128 as erk\n",
    "%matplotlib inline\n",
    "%load_ext autoreload\n",
    "%autoreload 2"
   ]
  },
  {
   "cell_type": "markdown",
   "metadata": {},
   "source": [
    "# Module 4 Graded Quiz\n",
    "Total points 10\n",
    "\n",
    "## Question 1\n",
    "\n",
    "In the following questions, we will be working with three bonds:\n",
    "\n",
    "    B1 is a 15 Year Bond with a Face Value of $1000 that pays a 5% coupon semi-annually (2 times a year)\n",
    "\n",
    "    B2 is a 5 Year Bond with a Face value of $1000 that pays a 6% coupon quarterly (4 times a year)\n",
    "\n",
    "    B3 is a 10 Year Zero-Coupon Bond with a Face Value of $1000 (Hint: you can still use the erk.bond_cash_flows() and erk.bond_price() by setting the coupon amount to 0% and coupons_per_year to 1)  Assume the yield curve is flat at 5%. Duration refers to Macaulay Duration\n",
    "\n",
    "Hint: the macaulay_duration function gives as output the duration expressed in periods and not in years. If you want to get the yearly duration you need to divide the duration for coupons_per_year; \n",
    "\n",
    "e.g.: duarion_B2 = erk.macaulay_duration(flows_B2, 0.05/4)/4"
   ]
  },
  {
   "cell_type": "code",
   "execution_count": 205,
   "metadata": {},
   "outputs": [],
   "source": [
    "#  erk.bond_price(maturity, principal=100, coupon_rate=0.03, coupons_per_year=12, discount_rate=0.03)\n",
    "B1_price = erk.bond_price(maturity=15, principal=1000, coupon_rate=0.05, coupons_per_year=2, discount_rate=0.05) \n",
    "B2_price = erk.bond_price(maturity=5 , principal=1000, coupon_rate=0.06, coupons_per_year=4, discount_rate=0.05)\n",
    "B3_price = erk.bond_price(maturity=10, principal=1000, coupon_rate=0.00, coupons_per_year=1, discount_rate=0.05)"
   ]
  },
  {
   "cell_type": "code",
   "execution_count": 206,
   "metadata": {},
   "outputs": [
    {
     "name": "stdout",
     "output_type": "stream",
     "text": [
      "0    1000.0\n",
      "dtype: float64\n",
      "0    1043.99829\n",
      "dtype: float64\n",
      "0    613.913254\n",
      "dtype: float64\n"
     ]
    }
   ],
   "source": [
    "print(B1_price)\n",
    "print(B2_price)\n",
    "print(B3_price)"
   ]
  },
  {
   "cell_type": "code",
   "execution_count": null,
   "metadata": {},
   "outputs": [],
   "source": []
  },
  {
   "cell_type": "code",
   "execution_count": 207,
   "metadata": {},
   "outputs": [
    {
     "data": {
      "text/plain": [
       "0    614.0\n",
       "dtype: float64"
      ]
     },
     "execution_count": 207,
     "metadata": {},
     "output_type": "execute_result"
    }
   ],
   "source": [
    "round(B3_price)"
   ]
  },
  {
   "cell_type": "markdown",
   "metadata": {},
   "source": [
    "# Question 6\n",
    "What is the duration of the 5 year bond B2?\n",
    "\n",
    "Enter the answer as a number - e.g. for 5.43 years, enter 5.43. "
   ]
  },
  {
   "cell_type": "code",
   "execution_count": 208,
   "metadata": {},
   "outputs": [],
   "source": [
    "# erk.bond_cash_flows(maturity, principal=100, coupon_rate=0.03, coupons_per_year=12)\n",
    "B1_flows = erk.bond_cash_flows(15, 1000, coupon_rate=0.05, coupons_per_year=2)\n",
    "B2_flows = erk.bond_cash_flows(5,  1000, coupon_rate=0.06, coupons_per_year=4)\n",
    "B3_flows = erk.bond_cash_flows(10, 1000, coupon_rate=0.00, coupons_per_year=1)"
   ]
  },
  {
   "cell_type": "code",
   "execution_count": 209,
   "metadata": {},
   "outputs": [],
   "source": [
    "# erk.macaulay_duration(flows, discount_rate)\n",
    "B1_dur = erk.macaulay_duration(B1_flows, discount_rate=0.05/2)/2\n",
    "B2_dur = erk.macaulay_duration(B2_flows, discount_rate=0.05/4)/4\n",
    "B3_dur = erk.macaulay_duration(B3_flows, discount_rate=0.05)"
   ]
  },
  {
   "cell_type": "code",
   "execution_count": 210,
   "metadata": {},
   "outputs": [
    {
     "data": {
      "text/plain": [
       "10.72677495379012"
      ]
     },
     "execution_count": 210,
     "metadata": {},
     "output_type": "execute_result"
    }
   ],
   "source": [
    "B1_dur"
   ]
  },
  {
   "cell_type": "code",
   "execution_count": 211,
   "metadata": {},
   "outputs": [
    {
     "data": {
      "text/plain": [
       "4.373363222636413"
      ]
     },
     "execution_count": 211,
     "metadata": {},
     "output_type": "execute_result"
    }
   ],
   "source": [
    "B2_dur"
   ]
  },
  {
   "cell_type": "code",
   "execution_count": 212,
   "metadata": {},
   "outputs": [
    {
     "data": {
      "text/plain": [
       "10.0"
      ]
     },
     "execution_count": 212,
     "metadata": {},
     "output_type": "execute_result"
    }
   ],
   "source": [
    "B3_dur"
   ]
  },
  {
   "cell_type": "code",
   "execution_count": null,
   "metadata": {},
   "outputs": [],
   "source": []
  },
  {
   "cell_type": "markdown",
   "metadata": {},
   "source": [
    "## Question 7\n",
    "Assume a sequence of 3 liabilities of $100,000, $200,000 and $300,000 that are 3, 5 and 10 years away,\n",
    " respectively. What is the Duration of the liabilities?\n",
    "\n",
    "(Reminder:  Assume the yield curve is flat at 5%. Duration refers to Macaulay Duration)\n",
    "\n",
    "Enter the answer as a number - e.g. for 5.43 years, enter 5.43. "
   ]
  },
  {
   "cell_type": "code",
   "execution_count": 213,
   "metadata": {},
   "outputs": [],
   "source": [
    "# erk.bond_cash_flows(maturity, principal=100, coupon_rate=0.03, coupons_per_year=12)\n",
    "l1_flows = erk.bond_cash_flows(3,  1000, coupon_rate=0.00, coupons_per_year=1)\n",
    "l2_flows = erk.bond_cash_flows(5,  1000, coupon_rate=0.00, coupons_per_year=1)\n",
    "l3_flows = erk.bond_cash_flows(10, 1000, coupon_rate=0.00, coupons_per_year=1)"
   ]
  },
  {
   "cell_type": "code",
   "execution_count": 214,
   "metadata": {},
   "outputs": [],
   "source": [
    "#  erk.bond_price(maturity, principal=100, coupon_rate=0.03, coupons_per_year=12, discount_rate=0.03)\n",
    "l1_price = erk.bond_price(maturity=3, principal=1000, coupon_rate=0.00, coupons_per_year=1, discount_rate=0.05) \n",
    "l2_price = erk.bond_price(maturity=5 , principal=1000, coupon_rate=0.00, coupons_per_year=1, discount_rate=0.05)\n",
    "l3_price = erk.bond_price(maturity=10, principal=1000, coupon_rate=0.00, coupons_per_year=1, discount_rate=0.05)"
   ]
  },
  {
   "cell_type": "code",
   "execution_count": 215,
   "metadata": {},
   "outputs": [
    {
     "data": {
      "text/plain": [
       "0    427262.969209\n",
       "dtype: float64"
      ]
     },
     "execution_count": 215,
     "metadata": {},
     "output_type": "execute_result"
    }
   ],
   "source": [
    "l_total = l1_price/1000*100000 + l2_price/1000*200000 + l3_price/1000*300000\n",
    "l_total"
   ]
  },
  {
   "cell_type": "code",
   "execution_count": 216,
   "metadata": {},
   "outputs": [],
   "source": [
    "weight_l1 = (l1_price/1000*100000) / l_total\n",
    "weight_l2 = (l2_price/1000*200000) / l_total\n",
    "weight_l3 = (l3_price/1000*300000) / l_total"
   ]
  },
  {
   "cell_type": "code",
   "execution_count": 217,
   "metadata": {},
   "outputs": [
    {
     "data": {
      "text/plain": [
       "0    1.0\n",
       "dtype: float64"
      ]
     },
     "execution_count": 217,
     "metadata": {},
     "output_type": "execute_result"
    }
   ],
   "source": [
    "weight_l1 + weight_l2 + weight_l3"
   ]
  },
  {
   "cell_type": "code",
   "execution_count": 218,
   "metadata": {},
   "outputs": [],
   "source": [
    "# erk.macaulay_duration(flows, discount_rate)\n",
    "l1_dur = erk.macaulay_duration(l1_flows, discount_rate=0.05)\n",
    "l2_dur = erk.macaulay_duration(l2_flows, discount_rate=0.05)\n",
    "l3_dur = erk.macaulay_duration(l3_flows, discount_rate=0.05)"
   ]
  },
  {
   "cell_type": "code",
   "execution_count": 219,
   "metadata": {},
   "outputs": [
    {
     "data": {
      "text/plain": [
       "3.0"
      ]
     },
     "execution_count": 219,
     "metadata": {},
     "output_type": "execute_result"
    }
   ],
   "source": [
    "l1_dur"
   ]
  },
  {
   "cell_type": "code",
   "execution_count": 220,
   "metadata": {},
   "outputs": [
    {
     "data": {
      "text/plain": [
       "5.0"
      ]
     },
     "execution_count": 220,
     "metadata": {},
     "output_type": "execute_result"
    }
   ],
   "source": [
    "l2_dur"
   ]
  },
  {
   "cell_type": "code",
   "execution_count": 221,
   "metadata": {},
   "outputs": [
    {
     "data": {
      "text/plain": [
       "10.0"
      ]
     },
     "execution_count": 221,
     "metadata": {},
     "output_type": "execute_result"
    }
   ],
   "source": [
    "l3_dur"
   ]
  },
  {
   "cell_type": "code",
   "execution_count": 222,
   "metadata": {},
   "outputs": [],
   "source": [
    "l_dur_pf = weight_l1 * l1_dur + weight_l2 * l2_dur + weight_l3 * l3_dur"
   ]
  },
  {
   "cell_type": "code",
   "execution_count": 223,
   "metadata": {},
   "outputs": [
    {
     "data": {
      "text/plain": [
       "0    6.750918\n",
       "dtype: float64"
      ]
     },
     "execution_count": 223,
     "metadata": {},
     "output_type": "execute_result"
    }
   ],
   "source": [
    "l_dur_pf"
   ]
  },
  {
   "cell_type": "markdown",
   "metadata": {},
   "source": [
    "# Question 8\n",
    "Assuming the same set of liabilities as the previous question (i.e. a sequence of 3 liabilities of $100,000, $200,000 and $300,000 that are 3, 5 and 10 years away,\n",
    " respectively) build a Duration Matched Portfolio of B1 and B2 to match these liabilities. What is the weight of B2 in the portfolio? (Hint: the code\n",
    " we developed in class erk.match_durations() assumes that all the bonds have the same number of coupons\n",
    " per year. This is not the case here, so you will either need to enhance the code or compute the weight directly\n",
    " e.g. by entering the steps in a Jupyter Notebook Cell or at the Python Command Line)\n",
    "\n",
    "Enter the weight as a percentage. For instance, if you compute the weight as 34.66%, enter 34.66."
   ]
  },
  {
   "cell_type": "code",
   "execution_count": 224,
   "metadata": {},
   "outputs": [],
   "source": [
    "def match_durations_new(cf_t, cf_s, cf_l, discount_rate):\n",
    "    \"\"\"\n",
    "    Returns the weight W in cf_s that, along with (1-W) in cf_l will have an effective\n",
    "    duration that matches cf_t\n",
    "    \"\"\"\n",
    "    d_t = macaulay_duration(cf_t, discount_rate)\n",
    "    d_s = macaulay_duration(cf_s, discount_rate)\n",
    "    d_l = macaulay_duration(cf_l, discount_rate)\n",
    "    return (d_l - d_t)/(d_l - d_s)"
   ]
  },
  {
   "cell_type": "code",
   "execution_count": 225,
   "metadata": {},
   "outputs": [],
   "source": [
    "d_l = B1_dur\n",
    "d_t = l_dur_pf\n",
    "d_s = B2_dur\n",
    "\n",
    "\n",
    "w = (d_l - d_t)/(d_l - d_s)"
   ]
  },
  {
   "cell_type": "code",
   "execution_count": 226,
   "metadata": {},
   "outputs": [
    {
     "data": {
      "text/plain": [
       "0    0.625783\n",
       "dtype: float64"
      ]
     },
     "execution_count": 226,
     "metadata": {},
     "output_type": "execute_result"
    }
   ],
   "source": [
    "w"
   ]
  },
  {
   "cell_type": "code",
   "execution_count": 227,
   "metadata": {},
   "outputs": [
    {
     "data": {
      "text/plain": [
       "0    0.374217\n",
       "dtype: float64"
      ]
     },
     "execution_count": 227,
     "metadata": {},
     "output_type": "execute_result"
    }
   ],
   "source": [
    "(1-w)"
   ]
  },
  {
   "cell_type": "code",
   "execution_count": 228,
   "metadata": {},
   "outputs": [
    {
     "data": {
      "text/plain": [
       "0    6.750918\n",
       "dtype: float64"
      ]
     },
     "execution_count": 228,
     "metadata": {},
     "output_type": "execute_result"
    }
   ],
   "source": [
    "w*B2_dur+(1-w)*B1_dur"
   ]
  },
  {
   "cell_type": "code",
   "execution_count": 229,
   "metadata": {},
   "outputs": [
    {
     "data": {
      "text/plain": [
       "10.72677495379012"
      ]
     },
     "execution_count": 229,
     "metadata": {},
     "output_type": "execute_result"
    }
   ],
   "source": [
    "d_l"
   ]
  },
  {
   "cell_type": "code",
   "execution_count": 230,
   "metadata": {},
   "outputs": [
    {
     "data": {
      "text/plain": [
       "0    6.750918\n",
       "dtype: float64"
      ]
     },
     "execution_count": 230,
     "metadata": {},
     "output_type": "execute_result"
    }
   ],
   "source": [
    "d_t"
   ]
  },
  {
   "cell_type": "code",
   "execution_count": 231,
   "metadata": {},
   "outputs": [
    {
     "data": {
      "text/plain": [
       "4.373363222636413"
      ]
     },
     "execution_count": 231,
     "metadata": {},
     "output_type": "execute_result"
    }
   ],
   "source": [
    "d_s"
   ]
  },
  {
   "cell_type": "markdown",
   "metadata": {},
   "source": [
    "# Question 9\n",
    "\n",
    "Assume you can use any of the bonds B1, B2 and B3 to build a duration matched bond portfolio matched\n",
    " to the liabilities. Which combination of 2 bonds can you NOT use to build a duration matched bond portfolio?\n",
    "1 point\n",
    "B2+B3\n",
    "B1+B2\n",
    "ANY PAIR WILL WORK\n",
    "B1+B3"
   ]
  },
  {
   "cell_type": "code",
   "execution_count": null,
   "metadata": {},
   "outputs": [],
   "source": []
  },
  {
   "cell_type": "markdown",
   "metadata": {},
   "source": [
    "# Question 10\n",
    "Assuming the same liabilities as the previous questions (i.e. a sequence of 3 liabilities of $100,000, $200,000 and $300,000 that are 3, 5 and 10 years away,\n",
    " respectively), build a Duration Matched Portfolio of B2 and B3 to match the liabilities.\n",
    "What is the weight of B2 in this portfolio?"
   ]
  },
  {
   "cell_type": "code",
   "execution_count": 232,
   "metadata": {},
   "outputs": [],
   "source": [
    "d_l = B3_dur\n",
    "d_t = l_dur_pf\n",
    "d_s = B2_dur\n",
    "\n",
    "\n",
    "w = (d_l - d_t)/(d_l - d_s)"
   ]
  },
  {
   "cell_type": "code",
   "execution_count": 233,
   "metadata": {},
   "outputs": [
    {
     "data": {
      "text/plain": [
       "4.373363222636413"
      ]
     },
     "execution_count": 233,
     "metadata": {},
     "output_type": "execute_result"
    }
   ],
   "source": [
    "d_s"
   ]
  },
  {
   "cell_type": "code",
   "execution_count": 234,
   "metadata": {},
   "outputs": [
    {
     "data": {
      "text/plain": [
       "0    0.577447\n",
       "dtype: float64"
      ]
     },
     "execution_count": 234,
     "metadata": {},
     "output_type": "execute_result"
    }
   ],
   "source": [
    "w"
   ]
  },
  {
   "cell_type": "code",
   "execution_count": null,
   "metadata": {},
   "outputs": [],
   "source": []
  }
 ],
 "metadata": {
  "kernelspec": {
   "display_name": "Python 3",
   "language": "python",
   "name": "python3"
  },
  "language_info": {
   "codemirror_mode": {
    "name": "ipython",
    "version": 3
   },
   "file_extension": ".py",
   "mimetype": "text/x-python",
   "name": "python",
   "nbconvert_exporter": "python",
   "pygments_lexer": "ipython3",
   "version": "3.6.8"
  }
 },
 "nbformat": 4,
 "nbformat_minor": 2
}
